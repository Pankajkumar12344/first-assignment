{
  "nbformat": 4,
  "nbformat_minor": 0,
  "metadata": {
    "colab": {
      "provenance": []
    },
    "kernelspec": {
      "name": "python3",
      "display_name": "Python 3"
    },
    "language_info": {
      "name": "python"
    }
  },
  "cells": [
    {
      "cell_type": "code",
      "source": [
        "                               #  ASSIGNMENT :: DATA STRUCTURE"
      ],
      "metadata": {
        "id": "rvLEbKV0iVo0"
      },
      "execution_count": null,
      "outputs": []
    },
    {
      "cell_type": "code",
      "source": [
        "# 1) Write a code to reverse a string.\n",
        "string1=\"hello pankaj\"\n",
        "string1[::-1]"
      ],
      "metadata": {
        "id": "73CbLDQTfk71",
        "outputId": "e1c84421-9c45-402e-9d73-97b518958c61",
        "colab": {
          "base_uri": "https://localhost:8080/",
          "height": 36
        }
      },
      "execution_count": 29,
      "outputs": [
        {
          "output_type": "execute_result",
          "data": {
            "text/plain": [
              "'jaknap olleh'"
            ],
            "application/vnd.google.colaboratory.intrinsic+json": {
              "type": "string"
            }
          },
          "metadata": {},
          "execution_count": 29
        }
      ]
    },
    {
      "cell_type": "code",
      "source": [
        "# 2)write a code to count the number of vowels un a srtring.\n",
        "string=input(\"Enter the number:\")\n",
        "count=0\n",
        "string=string.lower()\n",
        "for i in string:\n",
        "  if i=='a'or i=='e' or i=='i'or i=='o' or i=='u':\n",
        "    count=count+1\n",
        "  if count==0:\n",
        "    print(\"no vowels number\")\n",
        "else:\n",
        "  print(\"vowels number\"+ str(count))\n",
        "\n",
        "\n",
        "# +str  function  basically  used to  integer converted  into  string"
      ],
      "metadata": {
        "id": "i8Cpsaz4fqW-",
        "outputId": "93e4a246-5271-4a76-c905-1593fccc8720",
        "colab": {
          "base_uri": "https://localhost:8080/"
        }
      },
      "execution_count": 30,
      "outputs": [
        {
          "output_type": "stream",
          "name": "stdout",
          "text": [
            "Enter the number:ious\n",
            "vowels number3\n"
          ]
        }
      ]
    },
    {
      "cell_type": "code",
      "source": [
        "# 3) write a code to check if a given string is a palindrome or not\n",
        "a=input(\"enter the string: \")\n",
        "b=a[::-1]\n",
        "if(a==b):\n",
        "  print(\"palindrome string\")\n",
        "else:\n",
        "  print(\"not palindrome string\")\n",
        "\n",
        "# palindrome mean we are applied the reverse operation of the string the reverse string will be same to given string  it is palindrome"
      ],
      "metadata": {
        "id": "ilfOHihcfynS",
        "outputId": "cebe6473-f291-46dc-9a7d-264d5c818d5f",
        "colab": {
          "base_uri": "https://localhost:8080/"
        }
      },
      "execution_count": 31,
      "outputs": [
        {
          "output_type": "stream",
          "name": "stdout",
          "text": [
            "enter the string: MADAM\n",
            "palindrome string\n"
          ]
        }
      ]
    },
    {
      "cell_type": "code",
      "source": [
        "# 4) write a code to check if two given string are anagrams of each other.\n",
        "s1=input(\"enter  the string first :\")\n",
        "s2=input(\"enter the string second :\")\n",
        "if len(s1)==len(s2):\n",
        "  s1_sorted=sorted(s1)\n",
        "  s2_sorted=sorted(s2)\n",
        "if s1==s2:\n",
        "  print(\"this is anagrams\")\n",
        "else:\n",
        "  print(\"this is not anagrams\")\n",
        "\n",
        "  #1) mean of anagrams both string should be equal lenght\n",
        "  # 2) both string should have same charachter applied  after  sorted function"
      ],
      "metadata": {
        "id": "Sk_dAHevf7Wg",
        "outputId": "38a39bc7-ebb0-43c4-c76b-e21ae0313d4b",
        "colab": {
          "base_uri": "https://localhost:8080/"
        }
      },
      "execution_count": 32,
      "outputs": [
        {
          "output_type": "stream",
          "name": "stdout",
          "text": [
            "enter  the string first :cat\n",
            "enter the string second :cat\n",
            "this is anagrams\n"
          ]
        }
      ]
    },
    {
      "cell_type": "code",
      "source": [
        "#  5) write a code to find all occurrences of a given substring within another string.\n",
        "test_str=\"GreekforGreek is the best of Greek\"\n",
        "test_sub=\"Greek\"\n",
        "print(\"the original string :\" +test_str )\n",
        "print(\"the original to find:\" +test_sub)\n",
        "res=[i for i in range(len(test_str)) if test_str.startswith(test_sub,i)]\n",
        "print(\"the start indinces:\"+str(res))\n"
      ],
      "metadata": {
        "id": "Nm2rHaUQgA8D",
        "outputId": "d315fe17-286d-4911-da8d-937151ff0776",
        "colab": {
          "base_uri": "https://localhost:8080/"
        }
      },
      "execution_count": 33,
      "outputs": [
        {
          "output_type": "stream",
          "name": "stdout",
          "text": [
            "the original string :GreekforGreek is the best of Greek\n",
            "the original to find:Greek\n",
            "the start indinces:[0, 8, 29]\n"
          ]
        }
      ]
    },
    {
      "cell_type": "code",
      "source": [
        "# 6) write a code to perform basic string compression using counts to repeated characters.\n",
        "\n",
        "\n",
        "def compress_string(input_str):\n",
        "    if not input_str:\n",
        "        return \"\"\n",
        "\n",
        "    compressed = []\n",
        "    count = 1\n",
        "\n",
        "    for i in range(1, len(input_str)):\n",
        "        if input_str[i] == input_str[i - 1]:\n",
        "            count += 1\n",
        "        else:\n",
        "            compressed.append(input_str[i - 1] + str(count))\n",
        "            count = 1\n",
        "\n",
        "    compressed.append(input_str[-1] + str(count))\n",
        "    return min(input_str, \"\".join(compressed), key=len)\n",
        "\n",
        "input_str = \"AAABBBCCCDDDD\"\n",
        "compressed = compress_string(input_str)\n",
        "print(\"Compressed String:\", compressed)\n",
        "\n",
        "\n",
        "\n",
        "\n",
        "\n"
      ],
      "metadata": {
        "id": "3f_lbK4VgFIo",
        "outputId": "f575abac-6de2-481e-9bfd-f266b5f1d8f3",
        "colab": {
          "base_uri": "https://localhost:8080/"
        }
      },
      "execution_count": 34,
      "outputs": [
        {
          "output_type": "stream",
          "name": "stdout",
          "text": [
            "Compressed String: A3B3C3D4\n"
          ]
        }
      ]
    },
    {
      "cell_type": "code",
      "source": [
        "# 7) write the code determine the if a string has all unique chachter\n",
        "str = input(\"Enter string: \")\n",
        "\n",
        "\n",
        "def isUnique():\n",
        "    test_dict = dict()\n",
        "    is_unique = True\n",
        "    for c in str:\n",
        "        if(not test_dict.get(c, False)):\n",
        "            test_dict[c] = c\n",
        "        else:\n",
        "            is_unique = False\n",
        "            break\n",
        "    if is_unique:\n",
        "        return \"String is unique\"\n",
        "    else:\n",
        "        return \"String is not unique\"\n",
        "\n",
        "print(isUnique())"
      ],
      "metadata": {
        "id": "A-wB9i0lg9A1",
        "outputId": "ffc50721-6d51-42b2-d9f5-cd48e1fe05af",
        "colab": {
          "base_uri": "https://localhost:8080/"
        }
      },
      "execution_count": 35,
      "outputs": [
        {
          "output_type": "stream",
          "name": "stdout",
          "text": [
            "Enter string: helo\n",
            "String is unique\n"
          ]
        }
      ]
    },
    {
      "cell_type": "code",
      "source": [
        "# 8) write a code to convert a given string to uppercase or lowercase\n",
        "test=input(\"enter the upper string\")\n",
        "test=test.lower()\n",
        "print(test)\n"
      ],
      "metadata": {
        "id": "Wh44Z0HXhFq-",
        "outputId": "d72a0f4a-0dcb-45f4-908d-9904635f45a2",
        "colab": {
          "base_uri": "https://localhost:8080/"
        }
      },
      "execution_count": 36,
      "outputs": [
        {
          "output_type": "stream",
          "name": "stdout",
          "text": [
            "enter the upper stringHELLO WORD\n",
            "hello word\n"
          ]
        }
      ]
    },
    {
      "cell_type": "code",
      "source": [
        "# 9) write a code to count the number of words in a string\n",
        "str=input(\"enter the word: \")\n",
        "count=0\n",
        "for i in str.split(\" \"):\n",
        "  count=count+1\n",
        "  print(\"total word:\",count)\n"
      ],
      "metadata": {
        "id": "kxC2l-GchFTk",
        "outputId": "02cf2cb5-9edb-4aeb-d350-ff0066127a48",
        "colab": {
          "base_uri": "https://localhost:8080/"
        }
      },
      "execution_count": 37,
      "outputs": [
        {
          "output_type": "stream",
          "name": "stdout",
          "text": [
            "enter the word: my name is pankaj\n",
            "total word: 1\n",
            "total word: 2\n",
            "total word: 3\n",
            "total word: 4\n"
          ]
        }
      ]
    },
    {
      "cell_type": "code",
      "source": [
        "# 10) write a code to concatenate two string without using the + operator\n",
        "\n",
        "s1=input(\"enter the first string : \")\n",
        "s2=input(\"enter the second string : \")\n",
        "print(s1)\n",
        "print(s2)\n",
        "conc=\" \".join([s1,s2])\n",
        "print(conc)\n",
        "\n",
        "# \"\".join function is used to concatenate two string"
      ],
      "metadata": {
        "id": "JEjodvWDhDd-",
        "outputId": "3e296b11-31d1-4d37-af0e-4efa44eab1d5",
        "colab": {
          "base_uri": "https://localhost:8080/"
        }
      },
      "execution_count": 38,
      "outputs": [
        {
          "output_type": "stream",
          "name": "stdout",
          "text": [
            "enter the first string : welcome\n",
            "enter the second string : pwskill\n",
            "welcome\n",
            "pwskill\n",
            "welcome pwskill\n"
          ]
        }
      ]
    },
    {
      "cell_type": "code",
      "source": [
        "# 11) write a code to remove all occurrence of specific element from a list.\n",
        "list=[10,20,10,30,40,50,60,70,80]\n",
        "n=10\n",
        "print(\"original list number\")\n",
        "print(list)\n",
        "for i in list:\n",
        "  if i==n:\n",
        "    list.remove(i)\n",
        "    print(list)\n"
      ],
      "metadata": {
        "id": "7voRi5HthX6X",
        "outputId": "e17f498d-6737-47e2-da88-758ddd200212",
        "colab": {
          "base_uri": "https://localhost:8080/"
        }
      },
      "execution_count": 39,
      "outputs": [
        {
          "output_type": "stream",
          "name": "stdout",
          "text": [
            "original list number\n",
            "[10, 20, 10, 30, 40, 50, 60, 70, 80]\n",
            "[20, 10, 30, 40, 50, 60, 70, 80]\n",
            "[20, 30, 40, 50, 60, 70, 80]\n"
          ]
        }
      ]
    },
    {
      "cell_type": "code",
      "source": [
        "# 12) implement a code to find the second largest number in a given list of integer.\n",
        "a=[]\n",
        "n=int(input(\"Enter number of elements:\"))\n",
        "for i in range(1,n+1):\n",
        "    b=int(input(\"Enter element:\"))\n",
        "    a.append(b)\n",
        "a.sort()\n",
        "print(\"Second largest element is:\",a[n-2])"
      ],
      "metadata": {
        "id": "cHACNbZOhYkh",
        "outputId": "36d34718-9ee7-4ef7-b88f-00b89ce47df8",
        "colab": {
          "base_uri": "https://localhost:8080/"
        }
      },
      "execution_count": 40,
      "outputs": [
        {
          "output_type": "stream",
          "name": "stdout",
          "text": [
            "Enter number of elements:5\n",
            "Enter element:12\n",
            "Enter element:4\n",
            "Enter element:5\n",
            "Enter element:6\n",
            "Enter element:5\n",
            "Second largest element is: 6\n"
          ]
        }
      ]
    },
    {
      "cell_type": "code",
      "source": [
        "# 13) create a code to count the occurrence of each element in a list and return a dictionary with element as\n",
        "# keys and their count as values\n",
        "list =[\"apple\",\"banana\",\"red\",\"red\",\"apple\",\"orange\"]\n",
        "dict={x:list.count(x) for x in list }\n",
        "print(dict)"
      ],
      "metadata": {
        "id": "1gXNoaOvhYvC",
        "outputId": "ca7a350e-af1d-4209-9b11-d58e08dfec23",
        "colab": {
          "base_uri": "https://localhost:8080/"
        }
      },
      "execution_count": 41,
      "outputs": [
        {
          "output_type": "stream",
          "name": "stdout",
          "text": [
            "{'apple': 2, 'banana': 1, 'red': 2, 'orange': 1}\n"
          ]
        }
      ]
    },
    {
      "cell_type": "code",
      "source": [
        "# 14) write a code to reverse a list in -place without using any built-in reverse function.\n",
        "list=[1,\"pankaj\",\"pwskill\",\"Rahul\",2,3]\n",
        "a=list[::-1]\n",
        "print(\"reverse list without using reverse function\",a)\n"
      ],
      "metadata": {
        "id": "28nCx5DthYyC",
        "outputId": "083fa6eb-e09f-4582-b1ef-a207165f4712",
        "colab": {
          "base_uri": "https://localhost:8080/"
        }
      },
      "execution_count": 42,
      "outputs": [
        {
          "output_type": "stream",
          "name": "stdout",
          "text": [
            "reverse list without using reverse function [3, 2, 'Rahul', 'pwskill', 'pankaj', 1]\n"
          ]
        }
      ]
    },
    {
      "cell_type": "code",
      "source": [
        "# 15) implement a code to find and remove duplicate from a list while preserving the\n",
        "# order of element\n",
        "\n",
        "item=[1,2,2,3,4,5,1]\n",
        "tuple(dict.fromkeys(item))"
      ],
      "metadata": {
        "id": "vItojiVQhY02",
        "outputId": "b753756d-c66c-4b65-aaa3-00634ce2bb78",
        "colab": {
          "base_uri": "https://localhost:8080/"
        }
      },
      "execution_count": 43,
      "outputs": [
        {
          "output_type": "execute_result",
          "data": {
            "text/plain": [
              "(1, 2, 3, 4, 5)"
            ]
          },
          "metadata": {},
          "execution_count": 43
        }
      ]
    },
    {
      "cell_type": "code",
      "source": [
        "# 16) create a code to check if a given list is sorted (either in ascending or descending order) or not.\n",
        "list1=[6,2,3,4]\n",
        "tlist=list1[:]\n",
        "list1.sort()\n",
        "if tlist==list1:\n",
        "  print(\"the list is ascending oreder\")\n",
        "else:\n",
        "  print(\"the is not ascending order\")\n",
        "\n"
      ],
      "metadata": {
        "id": "P-xsDKxrhY3w",
        "outputId": "50284516-5faa-41d3-80ca-e91891c1f750",
        "colab": {
          "base_uri": "https://localhost:8080/"
        }
      },
      "execution_count": 44,
      "outputs": [
        {
          "output_type": "stream",
          "name": "stdout",
          "text": [
            "the is not ascending order\n"
          ]
        }
      ]
    },
    {
      "cell_type": "code",
      "source": [
        "# 17) write a code to merge two sorted list into a single sorted list.\n",
        "list1=[]\n",
        "list2=[]\n",
        "num1=int(input(\"Enter number of elements for first list:\"))\n",
        "for i in range(1,num1+1):\n",
        "    b=int(input(\"Enter element:\"))\n",
        "    list1.append(b)\n",
        "\n",
        "num2=int(input(\"Enter number of elements for second list:\"))\n",
        "for i in range(1,num2+1):\n",
        "    d=int(input(\"Enter element:\"))\n",
        "    list2.append(d)\n",
        "\n",
        "list3=list1+list2\n",
        "list3.sort()\n",
        "print(\"Sorted list is:\",list3)\n",
        "\n"
      ],
      "metadata": {
        "id": "3g33wVs6hY7T",
        "outputId": "8d805bac-9fa6-4f4c-d799-3553742a5bdb",
        "colab": {
          "base_uri": "https://localhost:8080/"
        }
      },
      "execution_count": 45,
      "outputs": [
        {
          "output_type": "stream",
          "name": "stdout",
          "text": [
            "Enter number of elements for first list:5\n",
            "Enter element:20\n",
            "Enter element:10\n",
            "Enter element:40\n",
            "Enter element:30\n",
            "Enter element:50\n",
            "Enter number of elements for second list:5\n",
            "Enter element:60\n",
            "Enter element:80\n",
            "Enter element:70\n",
            "Enter element:100\n",
            "Enter element:101\n",
            "Sorted list is: [10, 20, 30, 40, 50, 60, 70, 80, 100, 101]\n"
          ]
        }
      ]
    },
    {
      "cell_type": "code",
      "source": [
        "# 18)implement a code to find the intersection of two given list.\n",
        "list1 = [1, 2, 3, 4, 4, '5',\"educative\"]\n",
        "list2 = [4,\"educative\", 4, '5', 6, 7, 8,\"edu\"]\n",
        "\n",
        "intersection = []\n",
        "\n",
        "for element in list1:\n",
        "    if element in list2:\n",
        "        intersection.append(element)\n",
        "        list2.remove(element)\n",
        "\n",
        "print(intersection)"
      ],
      "metadata": {
        "id": "_I6qfhAshY-m",
        "outputId": "c5bea09d-77a6-4756-fd1e-350c2844581c",
        "colab": {
          "base_uri": "https://localhost:8080/"
        }
      },
      "execution_count": 46,
      "outputs": [
        {
          "output_type": "stream",
          "name": "stdout",
          "text": [
            "[4, 4, '5', 'educative']\n"
          ]
        }
      ]
    },
    {
      "cell_type": "code",
      "execution_count": 2,
      "metadata": {
        "colab": {
          "base_uri": "https://localhost:8080/"
        },
        "id": "jk-E2KLrcgVf",
        "outputId": "51eb0986-df13-4e56-814b-4049f642cd19"
      },
      "outputs": [
        {
          "output_type": "stream",
          "name": "stdout",
          "text": [
            "[2, 2, 12, 14, 14, 15, 15, 16, 20, 23, 26, 32, 47, 48, 52, 54]\n"
          ]
        }
      ],
      "source": [
        "# 19) create a code to find union of two lists without duplicates.\n",
        "def union(list1 ,list2):\n",
        "     final_list =sorted(list1 + list2)\n",
        "     return final_list\n",
        "list1 = [23,15,2,14,14,16,20,52]\n",
        "list2 = [2,48,15,12,26,32,47,54]\n",
        "print(union(list1 , list2))\n",
        "\n"
      ]
    },
    {
      "cell_type": "code",
      "source": [
        "# 20) write a code to shuffle a given list randomly without without using any built- in shuffle function.\n",
        "from random import randint\n",
        "def shuuffle_arry(arr):\n",
        "    n = len(arr)\n",
        "    for i in range(n):\n",
        "      rand = randint(i , n-1)\n",
        "      arr[i] , arr[rand] = arr[rand] , arr[i]\n",
        "\n",
        "    return arr\n",
        "print(shuuffle_arry([1,2,3,4,5,6,7]))\n",
        "\n",
        "\n",
        "\n"
      ],
      "metadata": {
        "colab": {
          "base_uri": "https://localhost:8080/"
        },
        "id": "Gnltkj7vfZNq",
        "outputId": "1cb102ab-bed1-4889-9a27-63e0bbea7b12"
      },
      "execution_count": 6,
      "outputs": [
        {
          "output_type": "stream",
          "name": "stdout",
          "text": [
            "[1, 5, 4, 7, 2, 6, 3]\n"
          ]
        }
      ]
    },
    {
      "cell_type": "code",
      "source": [
        "#  21) write a code that taken two tuples as input and return a new tuple conatining element that are\n",
        "# common to both input tuple\n",
        "def common_elements(tuple1, tuple2):\n",
        "    return tuple(set(tuple1) & set(tuple2))\n",
        "\n",
        "# Example usage:\n",
        "tuple1 = (1, 2, 3, 4, 5)\n",
        "tuple2 = (4, 5, 6, 7, 8)\n",
        "print(common_elements(tuple1, tuple2))"
      ],
      "metadata": {
        "colab": {
          "base_uri": "https://localhost:8080/"
        },
        "id": "5wB-wKl2m7Qy",
        "outputId": "153858fb-32f6-4421-c7d7-247d0bb3b255"
      },
      "execution_count": 27,
      "outputs": [
        {
          "output_type": "stream",
          "name": "stdout",
          "text": [
            "(4, 5)\n"
          ]
        }
      ]
    },
    {
      "cell_type": "code",
      "source": [
        "# 22) create a code that prompts the user to enter two sets of integer separarted by commas, then , print the\n",
        "# intersection of these two sets\n",
        "set1_input = input(\"Enter elements for Set 1 \")\n",
        "set1 = set(map(int, set1_input.split()))\n",
        "\n",
        "# Get user input for set 2\n",
        "set2_input = input(\"Enter elements for Set 2  \")\n",
        "set2 = set(map(int, set2_input.split()))\n",
        "\n",
        "# Calculate intersection\n",
        "intersection = set1 & set2\n",
        "\n",
        "# Print results\n",
        "print(f\"Set 1: {set1}\")\n",
        "print(f\"Set 2: {set2}\")\n",
        "print(f\"Intersection: {intersection}\")"
      ],
      "metadata": {
        "colab": {
          "base_uri": "https://localhost:8080/"
        },
        "id": "B2r0YgEbtkka",
        "outputId": "f4b5a69b-02b5-40f5-96dc-4c59af379b1c"
      },
      "execution_count": 33,
      "outputs": [
        {
          "output_type": "stream",
          "name": "stdout",
          "text": [
            "Enter elements for Set 1 1 2 3 4 5\n",
            "Enter elements for Set 2  4 5 6 7 8\n",
            "Set 1: {1, 2, 3, 4, 5}\n",
            "Set 2: {4, 5, 6, 7, 8}\n",
            "Intersection: {4, 5}\n"
          ]
        }
      ]
    },
    {
      "cell_type": "code",
      "source": [
        "# 23) write a code to concatenate two tuple, the function should taken two as input and return a new tuple conatining element from both input tuple\n",
        "\n",
        "def concat_tuple(tuple1 , tuple2):\n",
        "  return tuple1 + tuple2\n",
        "tuple1 = (1,2,3,4,5)\n",
        "tuple2 = (6,7,8,9,10)\n",
        "\n",
        "print(concat_tuple(tuple1, tuple2))\n"
      ],
      "metadata": {
        "colab": {
          "base_uri": "https://localhost:8080/"
        },
        "id": "2-epAz9CuT1f",
        "outputId": "fa23927c-bf87-45ce-9f10-7d6d03a098c6"
      },
      "execution_count": 35,
      "outputs": [
        {
          "output_type": "stream",
          "name": "stdout",
          "text": [
            "(1, 2, 3, 4, 5, 6, 7, 8, 9, 10)\n"
          ]
        }
      ]
    },
    {
      "cell_type": "code",
      "source": [
        "# 24)develop a code that prompts the user to input two sets of string. then ,print the element that are\n",
        "# present in the first set but not in the second set.\n",
        "set1_input = input(\"Enter elements for Set 1: \")\n",
        "set1 = set(set1_input.split())\n",
        "\n",
        "\n",
        "set2_input = input(\"Enter elements for Set 2: \")\n",
        "set2 = set(set2_input.split())\n",
        "\n",
        "\n",
        "difference = set1 - set2\n",
        "\n",
        "print(f\"Set 1: {set1}\")\n",
        "print(f\"Set 2: {set2}\")\n",
        "print(f\"Elements in Set 1 but not in Set 2: {difference}\")"
      ],
      "metadata": {
        "colab": {
          "base_uri": "https://localhost:8080/"
        },
        "id": "09Q5wLbGwF0W",
        "outputId": "1195580c-7001-493a-c771-baf1f820ffb0"
      },
      "execution_count": 37,
      "outputs": [
        {
          "output_type": "stream",
          "name": "stdout",
          "text": [
            "Enter elements for Set 1: apple, banana, date\n",
            "Enter elements for Set 2: apple, banana, elderberry\n",
            "Set 1: {'apple,', 'banana,', 'date'}\n",
            "Set 2: {'apple,', 'banana,', 'elderberry'}\n",
            "Elements in Set 1 but not in Set 2: {'date'}\n"
          ]
        }
      ]
    },
    {
      "cell_type": "code",
      "source": [
        "# 25) create a code that taken a tuple and two integer as input . the function should return a new tuple\n",
        "# containing element from the original tuple within the sepecified range of indices.\n",
        "def slice_tuple(tup, start, end):\n",
        "\n",
        "    if not isinstance(tup, tuple):\n",
        "        raise TypeError(\"Input must be a tuple\")\n",
        "    if not isinstance(start, int) or not isinstance(end, int):\n",
        "        raise TypeError(\"Start and end indices must be integers\")\n",
        "    if start < 0 or end > len(tup) or start > end:\n",
        "        raise ValueError(\"Invalid start or end index\")\n",
        "\n",
        "    return tup[start:end]\n",
        "\n",
        "tup = (1,2,3,4,-5,6,7,-8)\n",
        "start = 2\n",
        "end = 6\n",
        "print(slice_tuple(tup, start, end))\n",
        "\n",
        "\n"
      ],
      "metadata": {
        "colab": {
          "base_uri": "https://localhost:8080/"
        },
        "id": "67esdGzkx5Wb",
        "outputId": "98dcc521-557e-4389-eefb-869c2504d51b"
      },
      "execution_count": 43,
      "outputs": [
        {
          "output_type": "stream",
          "name": "stdout",
          "text": [
            "(3, 4, -5, 6)\n"
          ]
        }
      ]
    },
    {
      "cell_type": "code",
      "source": [
        "#  26) write a code that prompt the user to input two sets of charachter. then ,print the union of these two sets\n",
        "set1_input = input(\"Enter characters for Set 1 (separated by spaces): \")\n",
        "set1 = set(set1_input.split())\n",
        "set2_input = input(\"Enter characters for Set 2 (separated by spaces): \")\n",
        "set2 = set(set2_input.split())\n",
        "union = set1.union(set2)\n",
        "print(f\"Set 1: {set1}\")\n",
        "print(f\"Set 2: {set2}\")\n",
        "print(f\"Union: {union}\")"
      ],
      "metadata": {
        "colab": {
          "base_uri": "https://localhost:8080/"
        },
        "id": "8vdYhF6a8VSb",
        "outputId": "712cef47-45be-426a-c412-b78860809c48"
      },
      "execution_count": 9,
      "outputs": [
        {
          "output_type": "stream",
          "name": "stdout",
          "text": [
            "Enter characters for Set 1 (separated by spaces): a b c \n",
            "Enter characters for Set 2 (separated by spaces): c d e\n",
            "Set 1: {'c', 'b', 'a'}\n",
            "Set 2: {'d', 'e', 'c'}\n",
            "Union: {'d', 'b', 'a', 'e', 'c'}\n"
          ]
        }
      ]
    },
    {
      "cell_type": "code",
      "source": [
        "# 27) develop a code that taken a tuple of integer as input.the function should return the maximum and\n",
        "# minium values from the tuple using tuple unpacking.\n",
        "def find_max_min(tup):\n",
        "    if not isinstance(tup, tuple):\n",
        "        raise TypeError(\"Input must be a tuple\")\n",
        "    if len(tup) == 0:\n",
        "        raise ValueError(\"Tuple cannot be empty\")\n",
        "    min_val,*_,max_val= tup\n",
        "    for num in tup:\n",
        "        if num < min_val:\n",
        "            min_val = num\n",
        "        elif num > max_val:\n",
        "            max_val = num\n",
        "    return min_val, max_val\n",
        "tup = (12, 45, 7, 23, 56, 89, 34)\n",
        "min_val, max_val = find_max_min(tup)\n",
        "print(f\"Minimum value: {min_val}\")\n",
        "print(f\"Maximum value: {max_val}\")\n",
        "\n",
        "\n"
      ],
      "metadata": {
        "colab": {
          "base_uri": "https://localhost:8080/"
        },
        "id": "yatFBhen9UCj",
        "outputId": "89f2ea58-5ddb-42c3-cd2b-4d11126c9a31"
      },
      "execution_count": 16,
      "outputs": [
        {
          "output_type": "stream",
          "name": "stdout",
          "text": [
            "Minimum value: 7\n",
            "Maximum value: 89\n"
          ]
        }
      ]
    },
    {
      "cell_type": "code",
      "source": [
        "# 28) create a code that defines two sets of integers .then , print the union , intersection, and diffrenece  of these\n",
        "# two sets.\n",
        "\n",
        "set1 = {1, 2, 3, 4, 5}\n",
        "set2 = {4, 5, 6, 7, 8}\n",
        "union = set1.union(set2)\n",
        "print(\"Union:\", union)\n",
        "intersection = set1.intersection(set2)\n",
        "print(\"Intersection:\", intersection)\n",
        "difference1 = set1.difference(set2)\n",
        "print(\"Difference (set1 - set2):\", difference1)\n",
        "difference2 = set2.difference(set1)\n",
        "print(\"Difference (set2 - set1):\", difference2)\n",
        "\n",
        "\n"
      ],
      "metadata": {
        "colab": {
          "base_uri": "https://localhost:8080/"
        },
        "id": "RgXPDCK5Bus2",
        "outputId": "5cab953c-3617-442f-af18-d6a4ceb1f962"
      },
      "execution_count": 17,
      "outputs": [
        {
          "output_type": "stream",
          "name": "stdout",
          "text": [
            "Union: {1, 2, 3, 4, 5, 6, 7, 8}\n",
            "Intersection: {4, 5}\n",
            "Difference (set1 - set2): {1, 2, 3}\n",
            "Difference (set2 - set1): {8, 6, 7}\n"
          ]
        }
      ]
    },
    {
      "cell_type": "code",
      "source": [
        "# 29) write a code that taken a tuple and an element as input.the function should return the count of\n",
        "# occurrences of the given element in the tuple.\n",
        "def count_occurrences(tup, element):\n",
        "    if not isinstance(tup, tuple):\n",
        "        raise TypeError(\"Input must be a tuple\")\n",
        "    return tup.count(element)\n",
        "tup = (1, 2, 3, 2, 4, 2, 5)\n",
        "element = 2\n",
        "count = count_occurrences(tup, element)\n",
        "print(f\"Element {element} occurs {count} times in the tuple.\")\n",
        "\n"
      ],
      "metadata": {
        "colab": {
          "base_uri": "https://localhost:8080/"
        },
        "id": "ACPFg9pIE29N",
        "outputId": "8d8d95ba-4bbe-4938-c189-7981222f6b06"
      },
      "execution_count": 18,
      "outputs": [
        {
          "output_type": "stream",
          "name": "stdout",
          "text": [
            "Element 2 occurs 3 times in the tuple.\n"
          ]
        }
      ]
    },
    {
      "cell_type": "code",
      "source": [
        "# 30) develop a code that prompt the user to input two sets of string. then ,print the symmetric difference of these two sets.\n",
        "def get_user_input(prompt):\n",
        "    user_input = input(prompt)\n",
        "    return set(user_input.split())\n",
        "def main():\n",
        "    print(\"enter the sapce separte string for each set,\")\n",
        "    set1 = get_user_input(\"Enter first set: \")\n",
        "    set2 = get_user_input(\"Enter second set: \")\n",
        "    symmetric_diff = set1.symmetric_difference(set2)\n",
        "    print(\"Symmetric Difference:\")\n",
        "    print(symmetric_diff)\n",
        "if __name__ == \"__main__\":\n",
        "    main()\n",
        "\n",
        "\n"
      ],
      "metadata": {
        "colab": {
          "base_uri": "https://localhost:8080/"
        },
        "id": "C8C6s0aIG7JO",
        "outputId": "dd002cac-d786-43e8-e8f4-9fb7d5fc6f46"
      },
      "execution_count": 20,
      "outputs": [
        {
          "output_type": "stream",
          "name": "stdout",
          "text": [
            "enter the sapce separte string for each set,\n",
            "Enter first set: apple banana\n",
            "Enter second set: banana orange\n",
            "Symmetric Difference:\n",
            "{'apple', 'orange'}\n"
          ]
        }
      ]
    },
    {
      "cell_type": "code",
      "source": [
        "# 31) write a code that taken a list of word as input and return a dictionary where the keys are unique words and the values are the frequencies of theose word in the input list\n",
        "def word_frequencies(word_list):\n",
        "    frequency_dict = {}\n",
        "    for word in word_list:\n",
        "        word = word.lower()\n",
        "        if word in frequency_dict:\n",
        "            frequency_dict[word] += 1\n",
        "        else:\n",
        "            frequency_dict[word] = 1\n",
        "    return frequency_dict\n",
        "def main():\n",
        "    word_list = input(\"Enter space-separated words: \").split()\n",
        "    frequency_dict = word_frequencies(word_list)\n",
        "    print(\"Word Frequencies:\")\n",
        "\n",
        "    for word, frequency in frequency_dict.items():\n",
        "        print(f\"{word}: {frequency}\")\n",
        "\n",
        "if __name__ == \"__main__\":\n",
        "    main()\n",
        "\n",
        "\n"
      ],
      "metadata": {
        "colab": {
          "base_uri": "https://localhost:8080/"
        },
        "id": "BILKnkD9G-b6",
        "outputId": "efdefb11-7ffe-467d-b522-b1d844204485"
      },
      "execution_count": 24,
      "outputs": [
        {
          "output_type": "stream",
          "name": "stdout",
          "text": [
            "Enter space-separated words: apple banana apple orange banna bana \n",
            "Word Frequencies:\n",
            "apple: 2\n",
            "banana: 1\n",
            "orange: 1\n",
            "banna: 1\n",
            "bana: 1\n"
          ]
        }
      ]
    },
    {
      "cell_type": "code",
      "source": [
        "# 32) write a code that taken two dictionaries as input and merges then into a single dictionary . if there are\n",
        "# common keys., the values should be added together.\n",
        "def merge_dictionaries(dict1, dict2):\n",
        "    merged_dict = {**dict1, **dict2}\n",
        "    for key in dict1.keys() & dict2.keys():\n",
        "        merged_dict[key] += dict1[key]\n",
        "    return merged_dict\n",
        "dict1 = {'a': 10, 'b': 20, 'c': 30}\n",
        "dict2 = {'b': 40, 'c': 50, 'd': 60}\n",
        "\n",
        "merged = merge_dictionaries(dict1, dict2)\n",
        "print(\"Merged Dictionary:\", merged)\n",
        "\n",
        ""
      ],
      "metadata": {
        "colab": {
          "base_uri": "https://localhost:8080/"
        },
        "id": "-IP7gKTKH3oW",
        "outputId": "8973b999-77f9-421f-ff17-6ea1f398566e"
      },
      "execution_count": 25,
      "outputs": [
        {
          "output_type": "stream",
          "name": "stdout",
          "text": [
            "Merged Dictionary: {'a': 10, 'b': 60, 'c': 80, 'd': 60}\n"
          ]
        }
      ]
    },
    {
      "cell_type": "code",
      "source": [
        "#33)  write a  code to access a value in a nestes dictionary.the function should taken the dictionary and a list of\n",
        "#keys as input, and return the corresponding value . if and\n",
        " #the keys do not exist in the dictionary , the function should return none.\n",
        "\n",
        "\n",
        "def access_nested_dict(nested_dict, keys):\n",
        "    value = nested_dict\n",
        "    for key in keys:\n",
        "        if isinstance(value, dict) and key in value:\n",
        "            value = value[key]\n",
        "        else:\n",
        "            return None\n",
        "    return value\n",
        "nested_dict = {\n",
        "    'a': 10,\n",
        "    'b': {'x': 20, 'y': 30},\n",
        "    'c': {'p': {'r': 40, 's': 50}, 'q': 60}\n",
        "}\n",
        "\n",
        "print(access_nested_dict(nested_dict, ['b', 'x']))\n",
        "print(access_nested_dict(nested_dict, ['c', 'p', 'r']))\n",
        "print(access_nested_dict(nested_dict, ['d', 'z']))\n",
        "\n",
        "\n",
        "\n"
      ],
      "metadata": {
        "colab": {
          "base_uri": "https://localhost:8080/"
        },
        "id": "4QOg5jw2IP5H",
        "outputId": "7ddcdd71-de1e-49ff-c618-708695da0ee8"
      },
      "execution_count": 26,
      "outputs": [
        {
          "output_type": "stream",
          "name": "stdout",
          "text": [
            "20\n",
            "40\n",
            "None\n"
          ]
        }
      ]
    },
    {
      "cell_type": "code",
      "source": [
        "#  34) write a code that taken a dictionary as and return a sorted version of it based on the values . you\n",
        "# can choose whether to sort in ascending or descending order.\n",
        "\n",
        "def sort_dict_by_value(input_dict, order='asc'):\n",
        "\n",
        "    if order not in ['asc', 'desc']:\n",
        "        raise ValueError(\"Invalid order. Use 'asc' or 'desc'.\")\n",
        "\n",
        "    sorted_items = sorted(input_dict.items(), key=lambda x: x[1], reverse=(order == 'desc'))\n",
        "    return dict(sorted_items)\n",
        "\n",
        "input_dict = {'a': 10, 'b': 5, 'c': 20, 'd': 15}\n",
        "\n",
        "sorted_asc = sort_dict_by_value(input_dict)\n",
        "print(\"Sorted (Ascending):\", sorted_asc)\n",
        "\n",
        "sorted_desc = sort_dict_by_value(input_dict, order='desc')\n",
        "print(\"Sorted (Descending):\", sorted_desc)\n",
        "\n",
        "\n"
      ],
      "metadata": {
        "colab": {
          "base_uri": "https://localhost:8080/"
        },
        "id": "xiBhR-76I0Y6",
        "outputId": "71605d92-cfe7-4f5a-8328-e1b07b82bf9b"
      },
      "execution_count": 27,
      "outputs": [
        {
          "output_type": "stream",
          "name": "stdout",
          "text": [
            "Sorted (Ascending): {'b': 5, 'a': 10, 'd': 15, 'c': 20}\n",
            "Sorted (Descending): {'c': 20, 'd': 15, 'a': 10, 'b': 5}\n"
          ]
        }
      ]
    },
    {
      "cell_type": "code",
      "source": [
        "#  35) write a code that inverts a dictionary , swapping keys and values. ensure that the inverted dictionary\n",
        "# correcting handles case where multiple keys have the same values but storing the keys as a list in the  inverted dictionary.\n",
        "\n",
        "def invert_dict(input_dict):\n",
        "\n",
        "    inverted_dict = {}\n",
        "\n",
        "    for key, value in input_dict.items():\n",
        "        if value not in inverted_dict:\n",
        "            inverted_dict[value] = key\n",
        "        else:\n",
        "\n",
        "            if not isinstance(inverted_dict[value], list):\n",
        "                inverted_dict[value] = [inverted_dict[value]]\n",
        "            inverted_dict[value].append(key)\n",
        "\n",
        "    return inverted_dict\n",
        "\n",
        "input_dict = {\n",
        "    'a': 10,\n",
        "    'b': 20,\n",
        "    'c': 10,\n",
        "    'd': 30,\n",
        "    'e': 20\n",
        "}\n",
        "\n",
        "inverted = invert_dict(input_dict)\n",
        "print(\"Inverted Dictionary:\", inverted)\n",
        "\n"
      ],
      "metadata": {
        "colab": {
          "base_uri": "https://localhost:8080/"
        },
        "id": "PQwazoBdJQZw",
        "outputId": "6cf39021-885f-4535-9f12-c7e86f67e324"
      },
      "execution_count": 28,
      "outputs": [
        {
          "output_type": "stream",
          "name": "stdout",
          "text": [
            "Inverted Dictionary: {10: ['a', 'c'], 20: ['b', 'e'], 30: 'd'}\n"
          ]
        }
      ]
    }
  ]
}